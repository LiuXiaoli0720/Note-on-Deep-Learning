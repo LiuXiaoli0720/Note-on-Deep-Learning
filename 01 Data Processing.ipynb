{
 "cells": [
  {
   "cell_type": "markdown",
   "id": "4c0e074b",
   "metadata": {},
   "source": [
    "## 一、数据操作\n",
    "\n",
    "### 1.1 基本数据操作"
   ]
  },
  {
   "cell_type": "markdown",
   "id": "409c3f12",
   "metadata": {},
   "source": [
    "导入torch"
   ]
  },
  {
   "cell_type": "code",
   "execution_count": 2,
   "id": "8809fda2",
   "metadata": {},
   "outputs": [],
   "source": [
    "import torch"
   ]
  },
  {
   "cell_type": "markdown",
   "id": "852c9ffb",
   "metadata": {},
   "source": [
    "张量表示一个由数值组成的数组，这个数组可能有多个维度（轴）。具有一个轴的张量对应数学上的向量（vector），具有两个轴的张量对应数学上的矩阵（matrix），具有两个以上轴的张量没有特定的数学名称。\n",
    "\n",
    "张量中的每个值称为张量的元素（element）。"
   ]
  },
  {
   "cell_type": "code",
   "execution_count": 3,
   "id": "1547fbb2",
   "metadata": {},
   "outputs": [
    {
     "data": {
      "text/plain": [
       "tensor([ 0,  1,  2,  3,  4,  5,  6,  7,  8,  9, 10, 11])"
      ]
     },
     "execution_count": 3,
     "metadata": {},
     "output_type": "execute_result"
    }
   ],
   "source": [
    "# 使用arange创建一个行向量x\n",
    "x = torch.arange(12)\n",
    "x"
   ]
  },
  {
   "cell_type": "markdown",
   "id": "31bfdb95",
   "metadata": {},
   "source": [
    "可以通过张量的shape属性来访问张量（沿每个轴的长度）的形状（shape）"
   ]
  },
  {
   "cell_type": "code",
   "execution_count": 4,
   "id": "25963aa7",
   "metadata": {},
   "outputs": [
    {
     "data": {
      "text/plain": [
       "torch.Size([12])"
      ]
     },
     "execution_count": 4,
     "metadata": {},
     "output_type": "execute_result"
    }
   ],
   "source": [
    "x.shape"
   ]
  },
  {
   "cell_type": "markdown",
   "id": "d1f33258",
   "metadata": {},
   "source": [
    "如果只想知道张量中元素的总数，即形状的所有元素乘积，可以检查它的大小（size）。因为这里处理的是一个向量，所以它的shape与size相同。"
   ]
  },
  {
   "cell_type": "code",
   "execution_count": 5,
   "id": "541e788f",
   "metadata": {},
   "outputs": [
    {
     "data": {
      "text/plain": [
       "12"
      ]
     },
     "execution_count": 5,
     "metadata": {},
     "output_type": "execute_result"
    }
   ],
   "source": [
    "x.numel()"
   ]
  },
  {
   "cell_type": "code",
   "execution_count": 6,
   "id": "858c32c5",
   "metadata": {},
   "outputs": [
    {
     "data": {
      "text/plain": [
       "torch.Size([12])"
      ]
     },
     "execution_count": 6,
     "metadata": {},
     "output_type": "execute_result"
    }
   ],
   "source": [
    "x.size()"
   ]
  },
  {
   "cell_type": "markdown",
   "id": "9769ca99",
   "metadata": {},
   "source": [
    "要想改变一个张量的形状而不改变元素数量和元素值，可以调用reshape函数"
   ]
  },
  {
   "cell_type": "code",
   "execution_count": 7,
   "id": "9d749593",
   "metadata": {},
   "outputs": [
    {
     "data": {
      "text/plain": [
       "tensor([[ 0,  1,  2,  3],\n",
       "        [ 4,  5,  6,  7],\n",
       "        [ 8,  9, 10, 11]])"
      ]
     },
     "execution_count": 7,
     "metadata": {},
     "output_type": "execute_result"
    }
   ],
   "source": [
    "X = x.reshape(3, 4)\n",
    "X"
   ]
  },
  {
   "cell_type": "markdown",
   "id": "40f12a1b",
   "metadata": {},
   "source": [
    "如果我们的目标形状是（高度，宽度），那么在知道宽度后，高度会被自动计算得出。我们可以通过-1来调用此自动计算出形状，即可以用x.reshape(-1, 4)获x.reshape(3, -1)来取代x.reshape(3, 4)。"
   ]
  },
  {
   "cell_type": "markdown",
   "id": "26321330",
   "metadata": {},
   "source": [
    "使用全0、全1、其他常量或者从特定分布中随机采样的数字来初始化矩阵："
   ]
  },
  {
   "cell_type": "code",
   "execution_count": 8,
   "id": "b59955a2",
   "metadata": {},
   "outputs": [
    {
     "data": {
      "text/plain": [
       "tensor([[[0., 0., 0., 0.],\n",
       "         [0., 0., 0., 0.],\n",
       "         [0., 0., 0., 0.]],\n",
       "\n",
       "        [[0., 0., 0., 0.],\n",
       "         [0., 0., 0., 0.],\n",
       "         [0., 0., 0., 0.]]])"
      ]
     },
     "execution_count": 8,
     "metadata": {},
     "output_type": "execute_result"
    }
   ],
   "source": [
    "# 全0矩阵\n",
    "torch.zeros((2, 3, 4))"
   ]
  },
  {
   "cell_type": "code",
   "execution_count": 9,
   "id": "275cf5a8",
   "metadata": {},
   "outputs": [
    {
     "data": {
      "text/plain": [
       "tensor([[[1., 1., 1., 1.],\n",
       "         [1., 1., 1., 1.],\n",
       "         [1., 1., 1., 1.]],\n",
       "\n",
       "        [[1., 1., 1., 1.],\n",
       "         [1., 1., 1., 1.],\n",
       "         [1., 1., 1., 1.]]])"
      ]
     },
     "execution_count": 9,
     "metadata": {},
     "output_type": "execute_result"
    }
   ],
   "source": [
    "# 全1矩阵\n",
    "torch.ones((2, 3, 4))"
   ]
  },
  {
   "cell_type": "code",
   "execution_count": 10,
   "id": "50f96e73",
   "metadata": {},
   "outputs": [
    {
     "data": {
      "text/plain": [
       "tensor([[-0.1503, -0.1886,  0.3691, -0.5482],\n",
       "        [ 1.1731,  0.1596,  1.1706,  0.0437],\n",
       "        [ 0.0513, -0.5481, -0.7855, -0.9853]])"
      ]
     },
     "execution_count": 10,
     "metadata": {},
     "output_type": "execute_result"
    }
   ],
   "source": [
    "# 每个元素都从均值为0、标准差为1的标准高斯分布（正态分布）中随机采样的矩阵\n",
    "torch.randn(3, 4)"
   ]
  },
  {
   "cell_type": "markdown",
   "id": "bf2ccd74",
   "metadata": {},
   "source": [
    "运算符："
   ]
  },
  {
   "cell_type": "code",
   "execution_count": 11,
   "id": "e0b4c65e",
   "metadata": {},
   "outputs": [
    {
     "data": {
      "text/plain": [
       "(tensor([ 3.,  4.,  6., 10.]),\n",
       " tensor([-1.,  0.,  2.,  6.]),\n",
       " tensor([0.5000, 1.0000, 2.0000, 4.0000]),\n",
       " tensor([ 1.,  4., 16., 64.]))"
      ]
     },
     "execution_count": 11,
     "metadata": {},
     "output_type": "execute_result"
    }
   ],
   "source": [
    "x = torch.tensor([1.0, 2, 4, 8])\n",
    "y = torch.tensor([2, 2, 2, 2])\n",
    "x + y, x - y, x / y, x ** y  # **运算符表示求幂运算"
   ]
  },
  {
   "cell_type": "code",
   "execution_count": 12,
   "id": "0ffa3414",
   "metadata": {},
   "outputs": [
    {
     "data": {
      "text/plain": [
       "tensor([2.7183e+00, 7.3891e+00, 5.4598e+01, 2.9810e+03])"
      ]
     },
     "execution_count": 12,
     "metadata": {},
     "output_type": "execute_result"
    }
   ],
   "source": [
    "torch.exp(x)  # 求幂"
   ]
  },
  {
   "cell_type": "markdown",
   "id": "e8867928",
   "metadata": {},
   "source": [
    "把多个张量连接（concatenate）在一起"
   ]
  },
  {
   "cell_type": "code",
   "execution_count": 13,
   "id": "140b2b20",
   "metadata": {},
   "outputs": [
    {
     "data": {
      "text/plain": [
       "(tensor([[ 0.,  1.,  2.,  3.],\n",
       "         [ 4.,  5.,  6.,  7.],\n",
       "         [ 8.,  9., 10., 11.],\n",
       "         [ 2.,  1.,  4.,  3.],\n",
       "         [ 1.,  2.,  3.,  4.],\n",
       "         [ 4.,  3.,  2.,  1.]]),\n",
       " tensor([[ 0.,  1.,  2.,  3.,  2.,  1.,  4.,  3.],\n",
       "         [ 4.,  5.,  6.,  7.,  1.,  2.,  3.,  4.],\n",
       "         [ 8.,  9., 10., 11.,  4.,  3.,  2.,  1.]]))"
      ]
     },
     "execution_count": 13,
     "metadata": {},
     "output_type": "execute_result"
    }
   ],
   "source": [
    "X = torch.arange(12, dtype = torch.float32).reshape((3, 4))\n",
    "Y = torch.tensor([[2.0, 1, 4, 3], [1, 2, 3, 4], [4, 3, 2, 1]])\n",
    "torch.cat((X, Y), dim = 0), torch.cat((X, Y), dim = 1)  "
   ]
  },
  {
   "cell_type": "markdown",
   "id": "8346eb6b",
   "metadata": {},
   "source": [
    "逻辑运算符构建二元张量："
   ]
  },
  {
   "cell_type": "code",
   "execution_count": 14,
   "id": "0ba99207",
   "metadata": {},
   "outputs": [
    {
     "data": {
      "text/plain": [
       "tensor([[False,  True, False,  True],\n",
       "        [False, False, False, False],\n",
       "        [False, False, False, False]])"
      ]
     },
     "execution_count": 14,
     "metadata": {},
     "output_type": "execute_result"
    }
   ],
   "source": [
    "X == Y"
   ]
  },
  {
   "cell_type": "markdown",
   "id": "b177c878",
   "metadata": {},
   "source": [
    "对张量中所有元素求和，会产生一个单元素张量"
   ]
  },
  {
   "cell_type": "code",
   "execution_count": 15,
   "id": "3cb35854",
   "metadata": {},
   "outputs": [
    {
     "data": {
      "text/plain": [
       "tensor(66.)"
      ]
     },
     "execution_count": 15,
     "metadata": {},
     "output_type": "execute_result"
    }
   ],
   "source": [
    "X.sum()"
   ]
  },
  {
   "cell_type": "markdown",
   "id": "f17d35eb",
   "metadata": {},
   "source": [
    "### 1.2 广播机制\n",
    "   在某些情况下，即使张量形状不同，我们仍然可以通过调用广播机制（broadcasting mechanism）来执行按元素操作。这种机制的工作方式如下：\n",
    "\n",
    "​\t（1）通过适当复制元素来扩展一个获两个数组，以便在转换之后，两个张量具有相同的形状；\n",
    "\n",
    "​\t（2）对生成的数组执行按元素操作。\n",
    "\n"
   ]
  },
  {
   "cell_type": "code",
   "execution_count": 16,
   "id": "0660e0e6",
   "metadata": {},
   "outputs": [
    {
     "data": {
      "text/plain": [
       "(tensor([[0],\n",
       "         [1],\n",
       "         [2]]),\n",
       " tensor([[0, 1]]))"
      ]
     },
     "execution_count": 16,
     "metadata": {},
     "output_type": "execute_result"
    }
   ],
   "source": [
    "a = torch.arange(3).reshape((3, 1))\n",
    "b = torch.arange(2).reshape((1, 2))\n",
    "a, b"
   ]
  },
  {
   "cell_type": "code",
   "execution_count": 17,
   "id": "d9e91c4a",
   "metadata": {},
   "outputs": [
    {
     "data": {
      "text/plain": [
       "tensor([[0, 1],\n",
       "        [1, 2],\n",
       "        [2, 3]])"
      ]
     },
     "execution_count": 17,
     "metadata": {},
     "output_type": "execute_result"
    }
   ],
   "source": [
    "a + b"
   ]
  },
  {
   "cell_type": "markdown",
   "id": "b2049672",
   "metadata": {},
   "source": [
    "### 1.3 索引和切片\n",
    "\n",
    "与任何python数组一样，第一个元素的索引是0，最后一个元素的索引是-1；可以指定范围以包含第一个元素和最后一个之前的元素。"
   ]
  },
  {
   "cell_type": "code",
   "execution_count": 18,
   "id": "5c0ea07f",
   "metadata": {},
   "outputs": [
    {
     "data": {
      "text/plain": [
       "(tensor([ 8.,  9., 10., 11.]),\n",
       " tensor([[ 4.,  5.,  6.,  7.],\n",
       "         [ 8.,  9., 10., 11.]]))"
      ]
     },
     "execution_count": 18,
     "metadata": {},
     "output_type": "execute_result"
    }
   ],
   "source": [
    "X[-1], X[1:3]"
   ]
  },
  {
   "cell_type": "markdown",
   "id": "df7f1683",
   "metadata": {},
   "source": [
    "除读取外，还可以通过制定索引将元素写入矩阵"
   ]
  },
  {
   "cell_type": "code",
   "execution_count": 19,
   "id": "1875982a",
   "metadata": {},
   "outputs": [
    {
     "data": {
      "text/plain": [
       "tensor([[ 0.,  1.,  2.,  3.],\n",
       "        [ 4.,  5.,  9.,  7.],\n",
       "        [ 8.,  9., 10., 11.]])"
      ]
     },
     "execution_count": 19,
     "metadata": {},
     "output_type": "execute_result"
    }
   ],
   "source": [
    "X[1, 2] = 9\n",
    "X"
   ]
  },
  {
   "cell_type": "markdown",
   "id": "d8be6a2a",
   "metadata": {},
   "source": [
    "如果想为多个元素赋相同的值，只需要索引所有元素，然后赋值。"
   ]
  },
  {
   "cell_type": "code",
   "execution_count": 20,
   "id": "3fd8d31b",
   "metadata": {},
   "outputs": [
    {
     "data": {
      "text/plain": [
       "tensor([[12., 12., 12., 12.],\n",
       "        [12., 12., 12., 12.],\n",
       "        [ 8.,  9., 10., 11.]])"
      ]
     },
     "execution_count": 20,
     "metadata": {},
     "output_type": "execute_result"
    }
   ],
   "source": [
    "X[0:2, :] = 12\n",
    "X"
   ]
  },
  {
   "cell_type": "markdown",
   "id": "94f6656a",
   "metadata": {},
   "source": [
    "其中，[0:2, :]访问第1行和第2行，其中“:”代表沿轴1（列）的所有元素"
   ]
  },
  {
   "cell_type": "markdown",
   "id": "565aba7c",
   "metadata": {},
   "source": [
    "### 1.4 节省内存\n",
    "运行一些操作可能会导致为新结果分配内存。\n",
    "例如，如果我们用Y = X + Y，将取消引用Y指向的张量，而是指向新分配的内存处的张量。"
   ]
  },
  {
   "cell_type": "code",
   "execution_count": 21,
   "id": "09d07342",
   "metadata": {},
   "outputs": [
    {
     "data": {
      "text/plain": [
       "False"
      ]
     },
     "execution_count": 21,
     "metadata": {},
     "output_type": "execute_result"
    }
   ],
   "source": [
    "before = id(Y)\n",
    "Y = Y + X\n",
    "id(Y) == before"
   ]
  },
  {
   "cell_type": "markdown",
   "id": "a94045b8",
   "metadata": {},
   "source": [
    "运行Y = Y + X后，会发现id(Y)指向另一个位置。\n",
    "这是因为Python首先计算Y + X，为结果分配新的内存，然后使Y指向内存中的这个新位置。"
   ]
  },
  {
   "cell_type": "markdown",
   "id": "c0235965",
   "metadata": {},
   "source": [
    "这可能是不可取的，原因有两个：\n",
    "\n",
    "1. 首先，我们不想总是不必要地分配内存。在机器学习中，我们可能有数百兆的参数，并且在一秒内多次更新所有参数。通常情况下，我们希望原地执行这些更新；\n",
    "2. 如果我们不原地更新，其他引用仍然会指向旧的内存位置，这样我们的某些代码可能会无意中引用旧的参数。"
   ]
  },
  {
   "cell_type": "markdown",
   "id": "01d0dc5c",
   "metadata": {},
   "source": [
    "执行原地操作非常简单。\n",
    "我们可以使用切片表示法将操作的结果分配给先前分配的数组，例如Y[:] = <expression>。\n",
    "为了说明这一点，我们首先创建一个新的矩阵Z，其形状与另一个Y相同，\n",
    "使用zeros_like来分配一个全0的块。"
   ]
  },
  {
   "cell_type": "code",
   "execution_count": 22,
   "id": "cd4e97d7",
   "metadata": {},
   "outputs": [
    {
     "name": "stdout",
     "output_type": "stream",
     "text": [
      "id(Z): 1343601274288\n",
      "id(Z): 1343601274288\n"
     ]
    }
   ],
   "source": [
    "Z = torch.zeros_like(Y)\n",
    "print('id(Z):', id(Z))\n",
    "Z[:] = X + Y\n",
    "print('id(Z):', id(Z))"
   ]
  },
  {
   "cell_type": "markdown",
   "id": "e3228d10",
   "metadata": {},
   "source": [
    "如果后续计算中没有重复使用X，也可以使用 X[:] = X + Y 或 X += Y 来减少操作的内存开销。"
   ]
  },
  {
   "cell_type": "code",
   "execution_count": 23,
   "id": "b521a3ef",
   "metadata": {},
   "outputs": [
    {
     "data": {
      "text/plain": [
       "True"
      ]
     },
     "execution_count": 23,
     "metadata": {},
     "output_type": "execute_result"
    }
   ],
   "source": [
    "before = id(X)\n",
    "X += Y\n",
    "id(X) == before"
   ]
  },
  {
   "cell_type": "markdown",
   "id": "96802496",
   "metadata": {},
   "source": [
    "### 1.5 转换为其他Python对象\n"
   ]
  },
  {
   "cell_type": "code",
   "execution_count": 24,
   "id": "f6b24043",
   "metadata": {},
   "outputs": [
    {
     "data": {
      "text/plain": [
       "(numpy.ndarray, torch.Tensor)"
      ]
     },
     "execution_count": 24,
     "metadata": {},
     "output_type": "execute_result"
    }
   ],
   "source": [
    "A = X.numpy()\n",
    "B = torch.tensor(A)\n",
    "type(A), type(B)"
   ]
  },
  {
   "cell_type": "markdown",
   "id": "4cc5158e",
   "metadata": {},
   "source": [
    "要将大小为1的张量转换为Python标量，可以调用item函数或Python的内置函数"
   ]
  },
  {
   "cell_type": "code",
   "execution_count": 25,
   "id": "5c137034",
   "metadata": {},
   "outputs": [
    {
     "data": {
      "text/plain": [
       "(tensor([3.5000]), 3.5, 3.5, 3)"
      ]
     },
     "execution_count": 25,
     "metadata": {},
     "output_type": "execute_result"
    }
   ],
   "source": [
    "a = torch.tensor([3.5])\n",
    "a, a.item(), float(a), int(a)"
   ]
  },
  {
   "cell_type": "markdown",
   "id": "64b623c4",
   "metadata": {},
   "source": [
    "## 二、数据预处理"
   ]
  },
  {
   "cell_type": "markdown",
   "id": "4a6899c1",
   "metadata": {},
   "source": [
    "### 读取数据集\n",
    "创建一个人工数据集，并存储在csv文件中"
   ]
  },
  {
   "cell_type": "code",
   "execution_count": 27,
   "id": "aead0f81",
   "metadata": {},
   "outputs": [],
   "source": [
    "import os\n",
    "\n",
    "os.makedirs(os.path.join('..', 'data'), exist_ok = True)\n",
    "data_file = os.path.join('..', 'data', 'house_tiny.csv')\n",
    "with open(data_file, 'w') as f:\n",
    "    f.write('NumRooms,Alley,Price\\n')  # 列名\n",
    "    f.write('NA,Pave,127500\\n')  # 每行表示一个数据样本\n",
    "    f.write('2,NA,106000\\n')\n",
    "    f.write('4,NA,178100\\n')\n",
    "    f.write('NA,NA,140000\\n')"
   ]
  },
  {
   "cell_type": "markdown",
   "id": "0116399b",
   "metadata": {},
   "source": [
    "导入pandas包并调用read_csv函数"
   ]
  },
  {
   "cell_type": "code",
   "execution_count": 28,
   "id": "4495c26b",
   "metadata": {},
   "outputs": [
    {
     "name": "stdout",
     "output_type": "stream",
     "text": [
      "   NumRooms Alley   Price\n",
      "0       NaN  Pave  127500\n",
      "1       2.0   NaN  106000\n",
      "2       4.0   NaN  178100\n",
      "3       NaN   NaN  140000\n"
     ]
    }
   ],
   "source": [
    "import pandas as pd\n",
    "\n",
    "data = pd.read_csv(data_file)\n",
    "print(data)"
   ]
  },
  {
   "cell_type": "markdown",
   "id": "68f77420",
   "metadata": {},
   "source": [
    "### 处理缺失值\n",
    "“NaN”项代表缺失值\n",
    "处理缺失数据的典型方法包括插值法和删除法，其中插值法用一个替代值弥补缺失值，删除法则直接忽略缺失值"
   ]
  },
  {
   "cell_type": "markdown",
   "id": "f684ae63",
   "metadata": {},
   "source": [
    "在这里考虑插值法。通过位置索引iloc，将data分成inputs和outputs，其中前者为data的前两列，后者为data的最后一列。对于inputs中缺少的数值，用同一列的均值替换“NaN”项。"
   ]
  },
  {
   "cell_type": "code",
   "execution_count": 41,
   "id": "910bb688",
   "metadata": {},
   "outputs": [
    {
     "name": "stdout",
     "output_type": "stream",
     "text": [
      "   NumRooms Alley\n",
      "0       3.0  Pave\n",
      "1       2.0   NaN\n",
      "2       4.0   NaN\n",
      "3       3.0   NaN\n"
     ]
    }
   ],
   "source": [
    "inputs, outputs = data.iloc[:, 0:2], data.iloc[:, 2]\n",
    "inputs = inputs.fillna(inputs.select_dtypes(include = 'number').mean())  # 区别于书中的inputs.fillna(inputs.mean())\n",
    "print(inputs)"
   ]
  },
  {
   "cell_type": "markdown",
   "id": "a1ddff35",
   "metadata": {},
   "source": [
    "对于inputs中的类别值和离散值，我们将“NaN”视为一个类别。由于Alley列只接受两种类型的类别值“Pave”和“NaN”，pandas可以自动将此列转换为两列“Alley_Pave”和“Alley_nan”。 Alley列为“Pave”的行会将“Alley_Pave”的值设置为1，“Alley_nan”的值设置为0。 缺少Alley列的行会将“Alley_Pave”和“Alley_nan”分别设置为0和1。"
   ]
  },
  {
   "cell_type": "code",
   "execution_count": 38,
   "id": "b8525dd9",
   "metadata": {},
   "outputs": [
    {
     "name": "stdout",
     "output_type": "stream",
     "text": [
      "   NumRooms  Alley_Pave  Alley_nan\n",
      "0       NaN        True      False\n",
      "1       2.0       False       True\n",
      "2       4.0       False       True\n",
      "3       NaN       False       True\n"
     ]
    }
   ],
   "source": [
    "inputs = pd.get_dummies(inputs, dummy_na = True)\n",
    "print(inputs)"
   ]
  },
  {
   "cell_type": "markdown",
   "id": "8401f486",
   "metadata": {},
   "source": [
    "### 转换为张量格式\n",
    "现在inputs和outputs中的所有条目都是数值类型，它们可以转换为张量格式。"
   ]
  },
  {
   "cell_type": "code",
   "execution_count": 39,
   "id": "fadbc5f0",
   "metadata": {},
   "outputs": [
    {
     "data": {
      "text/plain": [
       "(tensor([[nan, 1., 0.],\n",
       "         [2., 0., 1.],\n",
       "         [4., 0., 1.],\n",
       "         [nan, 0., 1.]], dtype=torch.float64),\n",
       " tensor([127500., 106000., 178100., 140000.], dtype=torch.float64))"
      ]
     },
     "execution_count": 39,
     "metadata": {},
     "output_type": "execute_result"
    }
   ],
   "source": [
    "import torch\n",
    "\n",
    "X = torch.tensor(inputs.to_numpy(dtype = float))\n",
    "y = torch.tensor(outputs.to_numpy(dtype = float))\n",
    "X, y"
   ]
  },
  {
   "cell_type": "markdown",
   "id": "041c4062",
   "metadata": {},
   "source": [
    "### 练习\n",
    "创建包含更多行和列的原始数据集\n",
    "（1）删除缺失值最多的列\n",
    "（2）将预处理后的数据集转换为张量格式"
   ]
  },
  {
   "cell_type": "code",
   "execution_count": 59,
   "id": "11416c46",
   "metadata": {},
   "outputs": [],
   "source": [
    "# 创建数据集\n",
    "import os\n",
    "\n",
    "os.makedirs(os.path.join('..', 'data'), exist_ok = True)\n",
    "data_file = os.path.join('..', 'data', 'house_tiny.csv')\n",
    "with open(data_file, 'w') as f:\n",
    "    f.write('NumRooms,Alley,Price,others\\n')  # 列名\n",
    "    f.write('NA,Pave,127500,Pave\\n')  # 每行表示一个数据样本\n",
    "    f.write('2,NA,106000,NA\\n')\n",
    "    f.write('4,NA,178100,Pave\\n')\n",
    "    f.write('NA,NA,140000,Pave\\n')\n"
   ]
  },
  {
   "cell_type": "code",
   "execution_count": 60,
   "id": "39a6f83e",
   "metadata": {},
   "outputs": [
    {
     "name": "stdout",
     "output_type": "stream",
     "text": [
      "   NumRooms Alley   Price others\n",
      "0       NaN  Pave  127500   Pave\n",
      "1       2.0   NaN  106000    NaN\n",
      "2       4.0   NaN  178100   Pave\n",
      "3       NaN   NaN  140000   Pave\n"
     ]
    }
   ],
   "source": [
    "import pandas as pd\n",
    "\n",
    "data = pd.read_csv(data_file)\n",
    "print(data)"
   ]
  },
  {
   "cell_type": "code",
   "execution_count": 63,
   "id": "50e18430",
   "metadata": {},
   "outputs": [
    {
     "data": {
      "text/html": [
       "<div>\n",
       "<style scoped>\n",
       "    .dataframe tbody tr th:only-of-type {\n",
       "        vertical-align: middle;\n",
       "    }\n",
       "\n",
       "    .dataframe tbody tr th {\n",
       "        vertical-align: top;\n",
       "    }\n",
       "\n",
       "    .dataframe thead th {\n",
       "        text-align: right;\n",
       "    }\n",
       "</style>\n",
       "<table border=\"1\" class=\"dataframe\">\n",
       "  <thead>\n",
       "    <tr style=\"text-align: right;\">\n",
       "      <th></th>\n",
       "      <th>NumRooms</th>\n",
       "      <th>Price</th>\n",
       "      <th>others</th>\n",
       "    </tr>\n",
       "  </thead>\n",
       "  <tbody>\n",
       "    <tr>\n",
       "      <th>0</th>\n",
       "      <td>NaN</td>\n",
       "      <td>127500</td>\n",
       "      <td>Pave</td>\n",
       "    </tr>\n",
       "    <tr>\n",
       "      <th>1</th>\n",
       "      <td>2.0</td>\n",
       "      <td>106000</td>\n",
       "      <td>NaN</td>\n",
       "    </tr>\n",
       "    <tr>\n",
       "      <th>2</th>\n",
       "      <td>4.0</td>\n",
       "      <td>178100</td>\n",
       "      <td>Pave</td>\n",
       "    </tr>\n",
       "    <tr>\n",
       "      <th>3</th>\n",
       "      <td>NaN</td>\n",
       "      <td>140000</td>\n",
       "      <td>Pave</td>\n",
       "    </tr>\n",
       "  </tbody>\n",
       "</table>\n",
       "</div>"
      ],
      "text/plain": [
       "   NumRooms   Price others\n",
       "0       NaN  127500   Pave\n",
       "1       2.0  106000    NaN\n",
       "2       4.0  178100   Pave\n",
       "3       NaN  140000   Pave"
      ]
     },
     "execution_count": 63,
     "metadata": {},
     "output_type": "execute_result"
    }
   ],
   "source": [
    "# 删除缺失值最多的列\n",
    "count = 0\n",
    "count_max = 0\n",
    "labels = ['NumRooms','Alley','Price','others']\n",
    "for label in labels:\n",
    "    count = data[label].isna().sum()\n",
    "    if count > count_max:\n",
    "        count_max = count\n",
    "        flag = label\n",
    "data_new = data.drop(flag, axis = 1)\n",
    "data_new"
   ]
  },
  {
   "cell_type": "code",
   "execution_count": 75,
   "id": "9098686c",
   "metadata": {},
   "outputs": [
    {
     "name": "stdout",
     "output_type": "stream",
     "text": [
      "   NumRooms   Price\n",
      "0       3.0  127500\n",
      "1       2.0  106000\n",
      "2       4.0  178100\n",
      "3       3.0  140000\n",
      "    Pave    NaN\n",
      "0   True  False\n",
      "1  False   True\n",
      "2   True  False\n",
      "3   True  False\n"
     ]
    }
   ],
   "source": [
    "# 将data_new分成inputs和outputs，其中前者为data_new的前两列，后者为data_new的最后一列\n",
    "inputs, outputs = data_new.iloc[:, 0:2], data_new.iloc[:, 2]\n",
    "inputs = inputs.fillna(inputs.select_dtypes(include = 'number').mean())  # 对于inputs中的缺失值，用同一列的均值替换\n",
    "print(inputs)\n",
    "outputs = pd.get_dummies(outputs, dummy_na = True)\n",
    "print(outputs)"
   ]
  },
  {
   "cell_type": "code",
   "execution_count": 76,
   "id": "a9e0ff8e",
   "metadata": {},
   "outputs": [
    {
     "data": {
      "text/plain": [
       "(tensor([[3.0000e+00, 1.2750e+05],\n",
       "         [2.0000e+00, 1.0600e+05],\n",
       "         [4.0000e+00, 1.7810e+05],\n",
       "         [3.0000e+00, 1.4000e+05]], dtype=torch.float64),\n",
       " tensor([[1., 0.],\n",
       "         [0., 1.],\n",
       "         [1., 0.],\n",
       "         [1., 0.]], dtype=torch.float64))"
      ]
     },
     "execution_count": 76,
     "metadata": {},
     "output_type": "execute_result"
    }
   ],
   "source": [
    "# 转换为张量格式\n",
    "import torch\n",
    "\n",
    "X = torch.tensor(inputs.to_numpy(dtype = float))\n",
    "y = torch.tensor(outputs.to_numpy(dtype = float))\n",
    "X, y"
   ]
  }
 ],
 "metadata": {
  "kernelspec": {
   "display_name": "Python 3 (ipykernel)",
   "language": "python",
   "name": "python3"
  },
  "language_info": {
   "codemirror_mode": {
    "name": "ipython",
    "version": 3
   },
   "file_extension": ".py",
   "mimetype": "text/x-python",
   "name": "python",
   "nbconvert_exporter": "python",
   "pygments_lexer": "ipython3",
   "version": "3.9.18"
  }
 },
 "nbformat": 4,
 "nbformat_minor": 5
}
